{
  "nbformat": 4,
  "nbformat_minor": 0,
  "metadata": {
    "colab": {
      "provenance": [],
      "authorship_tag": "ABX9TyMf0vcolGV7mxmwyohOPm9m",
      "include_colab_link": true
    },
    "kernelspec": {
      "name": "python3",
      "display_name": "Python 3"
    },
    "language_info": {
      "name": "python"
    }
  },
  "cells": [
    {
      "cell_type": "markdown",
      "metadata": {
        "id": "view-in-github",
        "colab_type": "text"
      },
      "source": [
        "<a href=\"https://colab.research.google.com/github/salwafijri/praktikum/blob/main/Praktikum(WEEK-10).ipynb\" target=\"_parent\"><img src=\"https://colab.research.google.com/assets/colab-badge.svg\" alt=\"Open In Colab\"/></a>"
      ]
    },
    {
      "cell_type": "markdown",
      "source": [
        "**memanggil function pada python**"
      ],
      "metadata": {
        "id": "oC_Bp_Vt5i4O"
      }
    },
    {
      "cell_type": "code",
      "execution_count": null,
      "metadata": {
        "colab": {
          "base_uri": "https://localhost:8080/"
        },
        "id": "kq-27-yE3yFV",
        "outputId": "1632bc93-650b-4df6-8491-a4f74fb21860"
      },
      "outputs": [
        {
          "output_type": "stream",
          "name": "stdout",
          "text": [
            "Hello, world!\n"
          ]
        }
      ],
      "source": [
        "def my_function():\n",
        "  print(\"Hello, world!\")\n",
        "my_function()  #untuk memanggil fungsi"
      ]
    },
    {
      "cell_type": "markdown",
      "source": [
        "**Arguments**"
      ],
      "metadata": {
        "id": "Af4grSWg8_b-"
      }
    },
    {
      "cell_type": "code",
      "source": [
        "#function expects 1 arguments, and gets 1 arguments:\n",
        "def my_func(name):\n",
        "  print(name + \" Aulia\")\n",
        "my_func(\"Putri\")\n",
        "my_func(\"Sarah\")"
      ],
      "metadata": {
        "colab": {
          "base_uri": "https://localhost:8080/"
        },
        "id": "jdgj5De_5-aN",
        "outputId": "9dac87ac-6cca-4e27-cf3f-0640e15f14db"
      },
      "execution_count": null,
      "outputs": [
        {
          "output_type": "stream",
          "name": "stdout",
          "text": [
            "Putri Aulia\n",
            "Sarah Aulia\n"
          ]
        }
      ]
    },
    {
      "cell_type": "code",
      "source": [
        "#function expects 2 arguments, and gets 2 arguments:\n",
        "def my_function(name1, name2):\n",
        "  print(name1 + \" \" + name2)\n",
        "my_function(\"Siti\", \"Nurhaliza\")"
      ],
      "metadata": {
        "colab": {
          "base_uri": "https://localhost:8080/"
        },
        "id": "W7KI40iY9kRW",
        "outputId": "044c8ea5-3b7e-4273-fd1a-30c14494f113"
      },
      "execution_count": null,
      "outputs": [
        {
          "output_type": "stream",
          "name": "stdout",
          "text": [
            "Siti Nurhaliza\n"
          ]
        }
      ]
    },
    {
      "cell_type": "markdown",
      "source": [
        "**Arbitrary Arguments**"
      ],
      "metadata": {
        "id": "JcT6QoqeACUv"
      }
    },
    {
      "cell_type": "code",
      "source": [
        "def my_function(*human):\n",
        "  print(\"My name is \" + human[1])\n",
        "my_function(\"dipsy\", \"lala\", \"po\")"
      ],
      "metadata": {
        "colab": {
          "base_uri": "https://localhost:8080/"
        },
        "id": "zS5G3zkWAGSf",
        "outputId": "933e62bb-ba2a-498d-89d6-bd6a2073a6fb"
      },
      "execution_count": null,
      "outputs": [
        {
          "output_type": "stream",
          "name": "stdout",
          "text": [
            "My name is lala\n"
          ]
        }
      ]
    },
    {
      "cell_type": "markdown",
      "source": [
        "**keyword arguments**"
      ],
      "metadata": {
        "id": "BrvNYFOlAtQn"
      }
    },
    {
      "cell_type": "code",
      "source": [
        "def my_function(human):\n",
        "  print(\"My name is \" + human)\n",
        "my_function(human = \"dipsy\")"
      ],
      "metadata": {
        "colab": {
          "base_uri": "https://localhost:8080/"
        },
        "id": "2xVMPCq_A1oe",
        "outputId": "ea93dfae-4621-4193-beb9-bc0d84c7e98e"
      },
      "execution_count": null,
      "outputs": [
        {
          "output_type": "stream",
          "name": "stdout",
          "text": [
            "My name is dipsy\n"
          ]
        }
      ]
    },
    {
      "cell_type": "markdown",
      "source": [
        "**Arbitary keyword arguments**"
      ],
      "metadata": {
        "id": "VEbCUyOqCEXA"
      }
    },
    {
      "cell_type": "code",
      "source": [
        "def my_function(**human):\n",
        "  print(\"My last name is \" + human[\"name2\"])\n",
        "my_function(name1 = \"Lala\", name2 = \"Po\")"
      ],
      "metadata": {
        "colab": {
          "base_uri": "https://localhost:8080/"
        },
        "id": "qm0FUx3KBZjW",
        "outputId": "fee9266b-9dc4-4027-855e-b0e00dd74bc1"
      },
      "execution_count": null,
      "outputs": [
        {
          "output_type": "stream",
          "name": "stdout",
          "text": [
            "My last name is Po\n"
          ]
        }
      ]
    },
    {
      "cell_type": "markdown",
      "source": [
        "**default parameter value**"
      ],
      "metadata": {
        "id": "A9xx5mxOCWvq"
      }
    },
    {
      "cell_type": "code",
      "source": [
        "def my_function(country = \"russia\"):\n",
        "  print(\"I am from \" + country)\n",
        "my_function()"
      ],
      "metadata": {
        "colab": {
          "base_uri": "https://localhost:8080/"
        },
        "id": "8DbnO9nLC_oB",
        "outputId": "1b294844-06a9-4848-f903-28f988f7a5d7"
      },
      "execution_count": null,
      "outputs": [
        {
          "output_type": "stream",
          "name": "stdout",
          "text": [
            "I am from russia\n"
          ]
        }
      ]
    },
    {
      "cell_type": "code",
      "source": [
        "def my_function(color):\n",
        "  for x in color:\n",
        "    print(x)\n",
        "color = [\"black\", \"orange\", \"yellow\"]\n",
        "my_function(color)"
      ],
      "metadata": {
        "colab": {
          "base_uri": "https://localhost:8080/"
        },
        "id": "CzpnfPtxEMn6",
        "outputId": "fd3e6cb0-5ac2-4b7b-fb52-91eb428413c8"
      },
      "execution_count": null,
      "outputs": [
        {
          "output_type": "stream",
          "name": "stdout",
          "text": [
            "black\n",
            "orange\n",
            "yellow\n"
          ]
        }
      ]
    },
    {
      "cell_type": "markdown",
      "source": [
        "**return value**"
      ],
      "metadata": {
        "id": "JLHNCn89E5Np"
      }
    },
    {
      "cell_type": "code",
      "source": [
        "def my_function(n):\n",
        "  return 2 * n + 3 * 4\n",
        "\n",
        "print(my_function(3))\n",
        "print(my_function(5))\n",
        "print(my_function(9))"
      ],
      "metadata": {
        "colab": {
          "base_uri": "https://localhost:8080/"
        },
        "id": "WWjAN_8sE8E3",
        "outputId": "15ee5761-113b-4ea1-a1fc-6687985512a4"
      },
      "execution_count": null,
      "outputs": [
        {
          "output_type": "stream",
          "name": "stdout",
          "text": [
            "18\n",
            "22\n",
            "30\n"
          ]
        }
      ]
    },
    {
      "cell_type": "markdown",
      "source": [
        "**recursion**"
      ],
      "metadata": {
        "id": "pRTtQNO8Qrzi"
      }
    },
    {
      "cell_type": "code",
      "source": [
        "def tri_recursion(k):\n",
        "  if(k > 0):\n",
        "    result = k + tri_recursion(k - 1)\n",
        "    print(result)\n",
        "  else:\n",
        "    result = 0\n",
        "  return result\n",
        "\n",
        "print(\"\\n\\nRecursion Results:\")\n",
        "tri_recursion(3)"
      ],
      "metadata": {
        "colab": {
          "base_uri": "https://localhost:8080/"
        },
        "id": "1CCBEQD7QpG7",
        "outputId": "f4f9b000-b8da-4f8c-ba26-f843923767fc"
      },
      "execution_count": null,
      "outputs": [
        {
          "output_type": "stream",
          "name": "stdout",
          "text": [
            "\n",
            "\n",
            "Recursion Results:\n",
            "1\n",
            "3\n",
            "6\n"
          ]
        },
        {
          "output_type": "execute_result",
          "data": {
            "text/plain": [
              "6"
            ]
          },
          "metadata": {},
          "execution_count": 2
        }
      ]
    },
    {
      "cell_type": "markdown",
      "source": [
        "**Weekly Exercise 1**"
      ],
      "metadata": {
        "id": "a--8zhUe7Swm"
      }
    },
    {
      "cell_type": "code",
      "source": [
        "n = int(input(\"Masukkan bilangan bulat = \"))\n",
        "\n",
        "while n < 0:\n",
        "  n = int(input(\"Faktorial tidak didefinisikan untuk bilangan negatif.\\nMasukkan bilangan bulat non-negatif = \"))\n",
        "  if n >= 0:\n",
        "    break\n",
        "def fakt(n):\n",
        "  if n == 0 or n == 1:\n",
        "    return 1\n",
        "  else:\n",
        "    return n * fakt(n-1)\n",
        "\n",
        "print(\"Hasil faktorial dari\", n, \"adalah\", fakt(n))"
      ],
      "metadata": {
        "colab": {
          "base_uri": "https://localhost:8080/"
        },
        "id": "zheROOBODAYZ",
        "outputId": "56b9f609-6bc8-4e89-fb42-560b110af897"
      },
      "execution_count": 2,
      "outputs": [
        {
          "output_type": "stream",
          "name": "stdout",
          "text": [
            "Masukkan bilangan bulat = -3\n",
            "Faktorial tidak didefinisikan untuk bilangan negatif.\n",
            "Masukkan bilangan bulat non-negatif = 3\n",
            "Hasil faktorial dari 3 adalah 6\n"
          ]
        }
      ]
    },
    {
      "cell_type": "markdown",
      "source": [
        "**Weekly Exercise 2**"
      ],
      "metadata": {
        "id": "q0CfGSA_8Kye"
      }
    },
    {
      "cell_type": "code",
      "source": [
        "def luas_lingkaran(r):\n",
        "  return 3.14 * r**2\n",
        "\n",
        "def luas_persegi(sisi):\n",
        "  return sisi**2\n",
        "\n",
        "def luas_segitiga(a, t):\n",
        "  return 0.5 * a * t\n",
        "\n",
        "def hasil():\n",
        "  print(\"\\nPilih perhitungan:\")\n",
        "  print(\"1. Luas Lingkaran\")\n",
        "  print(\"2. Luas Persegi\")\n",
        "  print(\"3. Luas Segitiga\")\n",
        "  print(\"4. Selesai\")\n",
        "\n",
        "  pilihan = input(\"Masukkan pilihan (1/2/3/4): \")\n",
        "  if pilihan == '1':\n",
        "    r = float(input(\"jari-jari lingkaran: \"))\n",
        "    luas = luas_lingkaran(r)\n",
        "    print(f\"Luas lingkaran: {luas}\")\n",
        "  elif pilihan == '2':\n",
        "    sisi = float(input(\"panjang sisi persegi: \"))\n",
        "    luas = luas_persegi(sisi)\n",
        "    print(f\"Luas Persegi: {luas}\")\n",
        "  elif pilihan == '3':\n",
        "    a = float(input(\"panjang alas segitiga: \"))\n",
        "    t = float(input(\"tinggi segitiga: \"))\n",
        "    luas = luas_segitiga(a, t)\n",
        "    print(f\"Luas segitiga: {luas}\")\n",
        "  elif pilihan == '4':\n",
        "    print(\"Program selesai.\")\n",
        "    return 0\n",
        "  else:\n",
        "    print(\"Pilihan tidak valid. Silakan coba lagi dengan memasukkan angka 1, 2, 3, atau 4.\")\n",
        "  hasil()\n",
        "hasil()"
      ],
      "metadata": {
        "id": "wT8eysz5ahg0",
        "colab": {
          "base_uri": "https://localhost:8080/"
        },
        "outputId": "145b78c5-1ffc-4fbf-bd6b-7fcb8f60b2da"
      },
      "execution_count": 4,
      "outputs": [
        {
          "output_type": "stream",
          "name": "stdout",
          "text": [
            "\n",
            "Pilih perhitungan:\n",
            "1. Luas Lingkaran\n",
            "2. Luas Persegi\n",
            "3. Luas Segitiga\n",
            "4. Selesai\n",
            "Masukkan pilihan (1/2/3/4): 2\n",
            "panjang sisi persegi: 5\n",
            "Luas Persegi: 25.0\n",
            "\n",
            "Pilih perhitungan:\n",
            "1. Luas Lingkaran\n",
            "2. Luas Persegi\n",
            "3. Luas Segitiga\n",
            "4. Selesai\n",
            "Masukkan pilihan (1/2/3/4): 4\n",
            "Program selesai.\n"
          ]
        }
      ]
    }
  ]
}