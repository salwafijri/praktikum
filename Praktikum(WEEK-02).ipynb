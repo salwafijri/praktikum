{
  "nbformat": 4,
  "nbformat_minor": 0,
  "metadata": {
    "colab": {
      "provenance": [],
      "authorship_tag": "ABX9TyNEPryLhCxJKm0gyEdMvL1e",
      "include_colab_link": true
    },
    "kernelspec": {
      "name": "python3",
      "display_name": "Python 3"
    },
    "language_info": {
      "name": "python"
    }
  },
  "cells": [
    {
      "cell_type": "markdown",
      "metadata": {
        "id": "view-in-github",
        "colab_type": "text"
      },
      "source": [
        "<a href=\"https://colab.research.google.com/github/salwafijri/praktikum/blob/main/Praktikum(WEEK-02).ipynb\" target=\"_parent\"><img src=\"https://colab.research.google.com/assets/colab-badge.svg\" alt=\"Open In Colab\"/></a>"
      ]
    },
    {
      "cell_type": "code",
      "execution_count": null,
      "metadata": {
        "colab": {
          "base_uri": "https://localhost:8080/"
        },
        "id": "PO3c5Y4b1Qft",
        "outputId": "944c7374-780c-40e3-aee7-02c84c445d7e"
      },
      "outputs": [
        {
          "output_type": "stream",
          "name": "stdout",
          "text": [
            "Panjang = 20.5\n",
            "Lebar = 25\n",
            "Tinggi = 10\n",
            "Keliling = 91.0\n",
            "Luas = 512.5\n",
            "Volume = 5125.0\n"
          ]
        }
      ],
      "source": [
        "# WEEKLY EXERCISE 1\n",
        "\n",
        "panjang = 20.5\n",
        "lebar = 25\n",
        "tinggi = 10\n",
        "\n",
        "keliling = 2 * (panjang + lebar)\n",
        "luas = panjang * lebar\n",
        "volume = panjang * lebar * tinggi\n",
        "\n",
        "print(\"Panjang = \" + str(panjang))\n",
        "print(\"Lebar = \" + str(lebar))\n",
        "print(\"Tinggi = \" + str(tinggi))\n",
        "print(\"Keliling = \" + str(keliling))\n",
        "print(\"Luas = \" + str(luas))\n",
        "print(\"Volume = \" + str(volume))"
      ]
    },
    {
      "cell_type": "code",
      "source": [
        "# WEEKLY EXERCISE 2\n",
        "\n",
        "# Data Mahasiswa\n",
        "nilai_shafira = [85 , 75]  # kolom 1 adalah nilai kalkulus dan kolom 2 adalah nilai statistika\n",
        "nilai_amanda = [80 , 90]\n",
        "nilai_aditya = [75 , 80]\n",
        "nilai_nedia = [95 , 80]\n",
        "nilai_widya = [85 , 85]\n",
        "nilai_hanif = [75 , 90]\n",
        "nilai_andi = [70 , 75]\n",
        "nilai_dhanar = [85 , 85]\n",
        "nilai_hikma = [80 , 75]\n",
        "\n",
        "# Rata-rata nilai Shafira pada kedua mata kuliah\n",
        "mean_shafira = (nilai_shafira[0] + nilai_shafira[1]) / 2  # [0] = kolom 1 , [1] = kolom 2\n",
        "print(\"Rata-rata nilai Shafira : \" + str(mean_shafira))\n",
        "\n",
        "print(\" \")\n",
        "# Jumlah nilai Hanif dan Andi untuk semua mata kuliah\n",
        "jumlah_hanif = nilai_hanif[0] + nilai_hanif[1]\n",
        "jumlah_andi = nilai_andi[0] + nilai_andi[1]\n",
        "jumlah_hanif_andi = jumlah_hanif + jumlah_andi\n",
        "print(\"Jumlah nilai Hanif pada kedua mata kuliah : \" + str(jumlah_hanif))\n",
        "print(\"Jumlah nilai Andi pada kedua mata kuliah : \" + str(jumlah_andi))\n",
        "print(\"Jumlah nilai hanif dan Andi pada kedua mata kuliah : \" + str(jumlah_hanif_andi))\n",
        "\n",
        "print(\" \")\n",
        "# Rata-rata nilai Widya, Dhanar, Hikma, dan Nedia pada masing-masing mata kuliah\n",
        "mean_kal_4_anak = (nilai_widya[0] + nilai_dhanar[0] + nilai_hikma[0] + nilai_nedia[0]) / 4\n",
        "mean_stat_4_anak = (nilai_widya[1] + nilai_dhanar[1] + nilai_hikma[1] + nilai_nedia[1]) / 4\n",
        "print(\"Rata-rata nilai Widya, Dhanar, Hikma, dan Nedia pada mata kuliah Kalkulus 1 : \" + str(mean_kal_4_anak))\n",
        "print(\"Rata-rata nilai Widya, Dhanar, Hikma, dan Nedia pada mata kuliah Metode Statistika : \" + str(mean_stat_4_anak))\n",
        "\n",
        "print(\" \")\n",
        "# Rata-rata nilai mata kuliah Kalkulus 1 untuk semua mahasiswa\n",
        "mean_kal = (nilai_shafira[0] + nilai_amanda[0] + nilai_aditya[0]\n",
        "                      + nilai_nedia[0] + nilai_widya[0] + nilai_hanif[0]\n",
        "                      + nilai_andi[0] + nilai_dhanar[0] + nilai_hikma[0]) / 9\n",
        "print(\"Rata-rata nilai Kalkulus 1 : \" + str(mean_kal))\n",
        "\n",
        "print(\" \")\n",
        "# Rata-rata nilai mata kuliah Metode Statistika untuk semua mahasiswa\n",
        "mean_stat = (nilai_shafira[1] + nilai_amanda[1] + nilai_aditya[1]\n",
        "                      + nilai_nedia[1] + nilai_widya[1] + nilai_hanif[1]\n",
        "                      + nilai_andi[1] + nilai_dhanar[1] + nilai_hikma[1]) / 9\n",
        "print(\"Rata-rata nilai Metode Statistika : \" + str(mean_stat))"
      ],
      "metadata": {
        "id": "iTZHi4Ry2VkP",
        "outputId": "6d17f574-c6e4-4741-c58b-4a8e60093c68",
        "colab": {
          "base_uri": "https://localhost:8080/"
        }
      },
      "execution_count": 1,
      "outputs": [
        {
          "output_type": "stream",
          "name": "stdout",
          "text": [
            "Rata-rata nilai Shafira : 80.0\n",
            " \n",
            "Jumlah nilai Hanif pada kedua mata kuliah : 165\n",
            "Jumlah nilai Andi pada kedua mata kuliah : 145\n",
            "Jumlah nilai hanif dan Andi pada kedua mata kuliah : 310\n",
            " \n",
            "Rata-rata nilai Widya, Dhanar, Hikma, dan Nedia pada mata kuliah Kalkulus 1 : 86.25\n",
            "Rata-rata nilai Widya, Dhanar, Hikma, dan Nedia pada mata kuliah Metode Statistika : 81.25\n",
            " \n",
            "Rata-rata nilai Kalkulus 1 : 81.11111111111111\n",
            " \n",
            "Rata-rata nilai Metode Statistika : 81.66666666666667\n"
          ]
        }
      ]
    },
    {
      "cell_type": "code",
      "source": [
        "# WEEKLY EXERCISE 3\n",
        "\n",
        "# konstanta\n",
        "GAJI_PER_JAM = 30000\n",
        "JAM_KERJA_PER_HARI = 8 # dalam jam\n",
        "HARI_KERJA_AGUSTUS = 31 - 3  # Hari kerja di bulan Agustus (31 hari - 3 hari absen)\n",
        "PERSENTASE_TUNJANGAN = 10 / 100  # Tunjangan 10% jika bekerja lebih dari 5 tahun\n",
        "GAJI_LEMBUR_PER_JAM = 10000\n",
        "JAM_LEMBUR = 5  # Jam lembur pada bulan Agustus\n",
        "TAHUN_KERJA = 10  # Lama bekerja (dalam tahun)\n",
        "\n",
        "# Menghitung gaji pada bulan Agustus\n",
        "gaji_pokok = HARI_KERJA_AGUSTUS * JAM_KERJA_PER_HARI * GAJI_PER_JAM\n",
        "print(\"Gaji pokok Dwi pada bulan Agustus = Rp \" + str(gaji_pokok))\n",
        "\n",
        "# Menghitung tunjangan jika bekerja lebih dari 5 tahun\n",
        "if TAHUN_KERJA > 5:\n",
        "    tunjangan = gaji_pokok * PERSENTASE_TUNJANGAN\n",
        "else:\n",
        "    tunjangan = 0\n",
        "print(\"Tunjangan yang diterima oleh Dwi pada bulan Agustus = Rp \" + str(tunjangan))\n",
        "\n",
        "# Menghitung gaji total (dengan gaji lembur dan tunjangan)\n",
        "gaji_lembur = JAM_LEMBUR * GAJI_LEMBUR_PER_JAM\n",
        "gaji_total = gaji_pokok + tunjangan + gaji_lembur\n",
        "print(\"Gaji total Dwi pada bulan Agustus = Rp \" + str(gaji_total))"
      ],
      "metadata": {
        "colab": {
          "base_uri": "https://localhost:8080/"
        },
        "id": "xNWUxwKj2kcW",
        "outputId": "156a71d7-3f83-4708-d2f8-8686d0470ff6"
      },
      "execution_count": 2,
      "outputs": [
        {
          "output_type": "stream",
          "name": "stdout",
          "text": [
            "Gaji pokok Dwi pada bulan Agustus = Rp 6720000\n",
            "Tunjangan yang diterima oleh Dwi pada bulan Agustus = Rp 672000.0\n",
            "Gaji total Dwi pada bulan Agustus = Rp 7442000.0\n"
          ]
        }
      ]
    }
  ]
}