{
  "nbformat": 4,
  "nbformat_minor": 0,
  "metadata": {
    "colab": {
      "provenance": [],
      "authorship_tag": "ABX9TyPD2mUyBOpuzsye8f4qsRRd",
      "include_colab_link": true
    },
    "kernelspec": {
      "name": "python3",
      "display_name": "Python 3"
    },
    "language_info": {
      "name": "python"
    }
  },
  "cells": [
    {
      "cell_type": "markdown",
      "metadata": {
        "id": "view-in-github",
        "colab_type": "text"
      },
      "source": [
        "<a href=\"https://colab.research.google.com/github/salwafijri/praktikum/blob/main/Praktikum(WEEK-12).ipynb\" target=\"_parent\"><img src=\"https://colab.research.google.com/assets/colab-badge.svg\" alt=\"Open In Colab\"/></a>"
      ]
    },
    {
      "cell_type": "code",
      "source": [
        "# Exception Handling\n",
        "\n",
        "try:\n",
        "  print(n)\n",
        "except:\n",
        "  print(\"Variable 'n' is not defined\")"
      ],
      "metadata": {
        "colab": {
          "base_uri": "https://localhost:8080/"
        },
        "id": "tue7tlhuTow_",
        "outputId": "8350d00d-379a-4168-8cc8-cee70a5c679d"
      },
      "execution_count": null,
      "outputs": [
        {
          "output_type": "stream",
          "name": "stdout",
          "text": [
            "Variable 'n' is not defined\n"
          ]
        }
      ]
    },
    {
      "cell_type": "code",
      "source": [
        "# else, the try block does not generate any error:\n",
        "\n",
        "try:\n",
        "  print(\"hai\")\n",
        "except:\n",
        "  print(\"Variable 'x' is not defined\")\n",
        "else:\n",
        "  print(\"noting went wrong\")"
      ],
      "metadata": {
        "colab": {
          "base_uri": "https://localhost:8080/"
        },
        "id": "gx5ZSsbyie6G",
        "outputId": "01e9f23f-c108-48b1-81d5-ab469e3034bf"
      },
      "execution_count": null,
      "outputs": [
        {
          "output_type": "stream",
          "name": "stdout",
          "text": [
            "hai\n",
            "noting went wrong\n"
          ]
        }
      ]
    },
    {
      "cell_type": "code",
      "source": [
        "# finally\n",
        "\n",
        "try:\n",
        "  print(\"Hello\")\n",
        "except:\n",
        "  print(\"Something went wrong\")\n",
        "else:\n",
        "  print(\"Nothing went wrong\")\n",
        "finally:\n",
        "  print(\"Execution Completed\")"
      ],
      "metadata": {
        "colab": {
          "base_uri": "https://localhost:8080/"
        },
        "id": "7wQZruwtT9BH",
        "outputId": "5334ff4a-9cce-482b-e41c-2440c2d6b67b"
      },
      "execution_count": null,
      "outputs": [
        {
          "output_type": "stream",
          "name": "stdout",
          "text": [
            "Hello\n",
            "Nothing went wrong\n",
            "Execution Completed\n"
          ]
        }
      ]
    },
    {
      "cell_type": "code",
      "source": [
        "# Raise an exception\n",
        "\n",
        "x = \"p\"\n",
        "\n",
        "if not type(x) is int:\n",
        "  raise TypeError(\"hanya boleh masukkan angka\")"
      ],
      "metadata": {
        "colab": {
          "base_uri": "https://localhost:8080/",
          "height": 176
        },
        "id": "bqcm9NgjUD7V",
        "outputId": "c439e8e6-8d39-47f0-928f-3abe1e5df5f1"
      },
      "execution_count": null,
      "outputs": [
        {
          "output_type": "error",
          "ename": "TypeError",
          "evalue": "hanya boleh masukkan angka",
          "traceback": [
            "\u001b[0;31m---------------------------------------------------------------------------\u001b[0m",
            "\u001b[0;31mTypeError\u001b[0m                                 Traceback (most recent call last)",
            "\u001b[0;32m<ipython-input-49-4c4277b0589f>\u001b[0m in \u001b[0;36m<cell line: 5>\u001b[0;34m()\u001b[0m\n\u001b[1;32m      4\u001b[0m \u001b[0;34m\u001b[0m\u001b[0m\n\u001b[1;32m      5\u001b[0m \u001b[0;32mif\u001b[0m \u001b[0;32mnot\u001b[0m \u001b[0mtype\u001b[0m\u001b[0;34m(\u001b[0m\u001b[0mx\u001b[0m\u001b[0;34m)\u001b[0m \u001b[0;32mis\u001b[0m \u001b[0mint\u001b[0m\u001b[0;34m:\u001b[0m\u001b[0;34m\u001b[0m\u001b[0;34m\u001b[0m\u001b[0m\n\u001b[0;32m----> 6\u001b[0;31m   \u001b[0;32mraise\u001b[0m \u001b[0mTypeError\u001b[0m\u001b[0;34m(\u001b[0m\u001b[0;34m\"hanya boleh masukkan angka\"\u001b[0m\u001b[0;34m)\u001b[0m\u001b[0;34m\u001b[0m\u001b[0;34m\u001b[0m\u001b[0m\n\u001b[0m",
            "\u001b[0;31mTypeError\u001b[0m: hanya boleh masukkan angka"
          ]
        }
      ]
    },
    {
      "cell_type": "markdown",
      "source": [
        "**Weekly Exercise 1**"
      ],
      "metadata": {
        "id": "mayGhINC_c3i"
      }
    },
    {
      "cell_type": "code",
      "source": [
        "import matematika\n",
        "# Menghitung luas persegi\n",
        "try:\n",
        "    sisi = input(\"panjang sisi persegi : \")\n",
        "    if not sisi.strip():  # Mengecek apakah input kosong\n",
        "        raise ValueError(\"Input tidak boleh kosong.\")\n",
        "    if not sisi.isdigit():  # Mengecek apakah input hanya integer\n",
        "        raise ValueError(\"Hanya boleh memasukkan angka (bilangan bulat tanpa koma).\")\n",
        "    sisi = int(sisi)  # Mengubah input ke integer\n",
        "    luas = matematika.luas_persegi(sisi)\n",
        "    print(f\"Luas Persegi: {luas}\")\n",
        "except ValueError as e:\n",
        "    print(f\"Error: {e}\")\n",
        "\n",
        "print()\n",
        "\n",
        "# Menghitung luas lingkaran\n",
        "try:\n",
        "    r = input(\"jari-jari lingkaran: \")\n",
        "    if not r.strip():  # Mengecek apakah input kosong\n",
        "        raise ValueError(\"Input tidak boleh kosong.\")\n",
        "    if not r.isdigit():  # Mengecek apakah input hanya integer\n",
        "        raise ValueError(\"Hanya boleh memasukkan angka (bilangan bulat tanpa koma).\")\n",
        "    r = int(r)  # Mengubah input ke integer\n",
        "    luas = matematika.luas_lingkaran(r)\n",
        "    print(f\"Luas Lingkaran: {luas}\")\n",
        "except ValueError as e:\n",
        "    print(f\"Error: {e}\")"
      ],
      "metadata": {
        "colab": {
          "base_uri": "https://localhost:8080/"
        },
        "id": "1qIvcsX_aAFV",
        "outputId": "e344167a-8ed0-4d2c-8e19-0ee9e0d03ee0"
      },
      "execution_count": 14,
      "outputs": [
        {
          "output_type": "stream",
          "name": "stdout",
          "text": [
            "panjang sisi persegi : 12\n",
            "Luas Persegi: 144\n",
            "\n",
            "jari-jari lingkaran: 7\n",
            "Luas Lingkaran: 153.86\n"
          ]
        }
      ]
    },
    {
      "cell_type": "markdown",
      "source": [
        "**Weekly Exercise 2**"
      ],
      "metadata": {
        "id": "39nO_izybJml"
      }
    },
    {
      "cell_type": "code",
      "source": [
        "while True:\n",
        "  try:\n",
        "    num = input(\"Masukkan NPM Anda: \")\n",
        "    if not num.strip():  # Mengecek apakah input kosong\n",
        "      raise ValueError(\"Input tidak boleh kosong.\")\n",
        "    if not num.isdigit():\n",
        "      raise ValueError(\"NPM harus berupa beberapa digit bilangan bulat positif (angka saja).\")\n",
        "\n",
        "    genap = 0  # Inisialisasi genap\n",
        "    ganjil = 0  # Inisialisasi ganjil\n",
        "    for x in num:\n",
        "      if int(x) % 2 == 0:  # Cek apakah angka genap\n",
        "        genap += 1  # Tambah 1 untuk genap\n",
        "      else:\n",
        "        ganjil += 1  # Tambah 1 untuk ganjil\n",
        "    print(f\"Jumlah bilangan genap: {genap}\")\n",
        "    print(f\"Jumlah bilangan ganjil: {ganjil}\\n\")\n",
        "    break\n",
        "\n",
        "  except ValueError as ve:\n",
        "    print(f\"Error: {ve}\\n\")"
      ],
      "metadata": {
        "colab": {
          "base_uri": "https://localhost:8080/"
        },
        "id": "K2FusN3idmRQ",
        "outputId": "3279f2b4-ca4e-413c-e16d-5a03e79e86eb"
      },
      "execution_count": 18,
      "outputs": [
        {
          "output_type": "stream",
          "name": "stdout",
          "text": [
            "Masukkan NPM Anda: \n",
            "Error: Input tidak boleh kosong.\n",
            "\n",
            "Masukkan NPM Anda: untidar\n",
            "Error: NPM harus berupa beberapa digit bilangan bulat positif (angka saja).\n",
            "\n",
            "Masukkan NPM Anda: lima enam\n",
            "Error: NPM harus berupa beberapa digit bilangan bulat positif (angka saja).\n",
            "\n",
            "Masukkan NPM Anda: -9876*8\n",
            "Error: NPM harus berupa beberapa digit bilangan bulat positif (angka saja).\n",
            "\n",
            "Masukkan NPM Anda: 2420506019\n",
            "Jumlah bilangan genap: 7\n",
            "Jumlah bilangan ganjil: 3\n",
            "\n"
          ]
        }
      ]
    }
  ]
}