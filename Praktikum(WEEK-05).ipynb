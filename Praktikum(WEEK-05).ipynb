{
  "cells": [
    {
      "cell_type": "markdown",
      "metadata": {
        "id": "view-in-github",
        "colab_type": "text"
      },
      "source": [
        "<a href=\"https://colab.research.google.com/github/salwafijri/praktikum/blob/main/Pratikum(WEEK-05).ipynb\" target=\"_parent\"><img src=\"https://colab.research.google.com/assets/colab-badge.svg\" alt=\"Open In Colab\"/></a>"
      ]
    },
    {
      "cell_type": "markdown",
      "metadata": {
        "id": "Jk0nYf-AAAL8"
      },
      "source": [
        "### **Contoh Nested If Statement**"
      ]
    },
    {
      "cell_type": "code",
      "execution_count": null,
      "metadata": {
        "colab": {
          "base_uri": "https://localhost:8080/"
        },
        "id": "avsmmKN7HO0B",
        "outputId": "ada12dc8-4d2a-46ed-f07c-c1f8fa5e4464"
      },
      "outputs": [
        {
          "name": "stdout",
          "output_type": "stream",
          "text": [
            "Masukkan Angka: -45\n",
            "Angka tersebut adalah bilangan bulat negatif yang ganjil.\n"
          ]
        }
      ],
      "source": [
        "num = int(input(\"Masukkan Angka: \"))\n",
        "\n",
        "if num > 0:\n",
        "  if num % 2 == 0:\n",
        "    print(\"Angka tersebut adalah bilangan bulat positif yang genap.\")\n",
        "  else:\n",
        "    print(\"Angka tersebut adalah bilangan bulat positif yang ganjil.\")\n",
        "elif num < 0:\n",
        "  if num % 2 == 0:\n",
        "    print(\"Angka tersebut adalah bilangan bulat negatif yang genap.\")\n",
        "  else:\n",
        "    print(\"Angka tersebut adalah bilangan bulat negatif yang ganjil.\")\n",
        "else:\n",
        "  print(\"Angka tersebut adalah nol.\")"
      ]
    },
    {
      "cell_type": "markdown",
      "metadata": {
        "id": "pRQOaS0Wofwi"
      },
      "source": [
        "**Weekly Exercise 1**"
      ]
    },
    {
      "cell_type": "code",
      "execution_count": null,
      "metadata": {
        "colab": {
          "base_uri": "https://localhost:8080/"
        },
        "id": "YvhEL-yQ6xbP",
        "outputId": "673b6bc8-09eb-4b5d-f97d-54dfbe41c134"
      },
      "outputs": [
        {
          "output_type": "stream",
          "name": "stdout",
          "text": [
            "Masukkan tahun: 2024\n",
            "Tahun tersebut adalah tahun kabisat.\n"
          ]
        }
      ],
      "source": [
        "num = int(input(\"Masukkan tahun: \"))\n",
        "\n",
        "if num % 4 == 0:\n",
        "  if num % 100 == 0:\n",
        "    if num % 400 == 0:\n",
        "      print(\"Tahun tersebut adalah tahun kabisat.\")\n",
        "    else:\n",
        "      print(\"Tahun tersebut bukan tahun kabisat.\")\n",
        "  else:\n",
        "    print(\"Tahun tersebut adalah tahun kabisat.\")\n",
        "else:\n",
        "  print(\"Tahun tersebut bukan tahun kabisat.\")"
      ]
    },
    {
      "cell_type": "markdown",
      "metadata": {
        "id": "xxgICctq8Eca"
      },
      "source": [
        "**Weekly Exercise 2**"
      ]
    },
    {
      "cell_type": "code",
      "source": [
        "a = int(input(\"Angka Pertama = \"))\n",
        "b = int(input(\"Angka Kedua = \"))\n",
        "c = int(input(\"Angka Ketiga = \"))\n",
        "\n",
        "if a >= c:\n",
        "  if a >= b:\n",
        "    print(\"Angka pertama adalah yang paling besar.\")\n",
        "elif b >= c:\n",
        "  if b >= a:\n",
        "    print(\"Angka kedua adalah yang paling besar.\")\n",
        "else:\n",
        "  print(\"Angka ketiga adalah yang paling besar.\")"
      ],
      "metadata": {
        "colab": {
          "base_uri": "https://localhost:8080/"
        },
        "id": "1AZtL4RJGeZ-",
        "outputId": "0ae5ed17-8615-4af5-b593-a063ea00fe5d"
      },
      "execution_count": null,
      "outputs": [
        {
          "output_type": "stream",
          "name": "stdout",
          "text": [
            "Angka Pertama = 67\n",
            "Angka Kedua = 45\n",
            "Angka Ketiga = 90\n",
            "Angka ketiga adalah yang paling besar.\n"
          ]
        }
      ]
    },
    {
      "cell_type": "markdown",
      "metadata": {
        "id": "F_NE6TOOpFAh"
      },
      "source": [
        "**Weekly Exercise 3**"
      ]
    },
    {
      "cell_type": "code",
      "execution_count": 4,
      "metadata": {
        "colab": {
          "base_uri": "https://localhost:8080/"
        },
        "id": "AgmzvuzUMYzH",
        "outputId": "2f1fe25e-67c5-4015-e9f9-acbf2a15b82d"
      },
      "outputs": [
        {
          "output_type": "stream",
          "name": "stdout",
          "text": [
            "Total Belanja : 150000\n",
            "Apakah anda konsumen member? (ya/tidak) ya\n",
            "Total yang harus dibayarkan = Rp 142500.0\n"
          ]
        }
      ],
      "source": [
        "total = float(input(\"Total Belanja : \"))\n",
        "konsumen = input(\"Apakah anda konsumen member? (ya/tidak) \")\n",
        "\n",
        "if 100000 < total <= 200000:\n",
        "  diskon = 3/100\n",
        "  if konsumen == \"ya\":\n",
        "    diskon += 2/100\n",
        "elif total > 200000:\n",
        "  diskon = 4/100\n",
        "  if konsumen == \"ya\":\n",
        "    diskon += 2/100\n",
        "elif total <= 100000:\n",
        "  diskon = 0\n",
        "  if konsumen == \"ya\":\n",
        "    diskon += 2/100\n",
        "\n",
        "total_bayar = total - (total * diskon)\n",
        "print(f\"Total yang harus dibayarkan = Rp\", total_bayar)"
      ]
    },
    {
      "cell_type": "markdown",
      "metadata": {
        "id": "R3zOtSOfeu5J"
      },
      "source": [
        "**Weekly Exercise 4**"
      ]
    },
    {
      "cell_type": "code",
      "execution_count": 7,
      "metadata": {
        "colab": {
          "base_uri": "https://localhost:8080/"
        },
        "id": "rFefWGTgDf5F",
        "outputId": "32b8746f-9932-485c-a040-22890c12016b"
      },
      "outputs": [
        {
          "output_type": "stream",
          "name": "stdout",
          "text": [
            "Enter your username : salwa\n",
            "Enter your email : fijri@gmail.com\n",
            "Enter your password : salwa_006\n",
            "User berhasil dibuat!\n"
          ]
        }
      ],
      "source": [
        "username = str(input(\"Enter your username : \"))\n",
        "email = str(input(\"Enter your email : \"))\n",
        "password = str(input(\"Enter your password : \"))\n",
        "\n",
        "if username:\n",
        "  if '@' in email:\n",
        "    if len(password) >= 9:\n",
        "      print(\"User berhasil dibuat!\")\n",
        "    else:\n",
        "      print(\"Panjang password harus lebih dari 8 karakter\")\n",
        "  else:\n",
        "    print(\"Email harus menggunakan '@'\")\n",
        "else:\n",
        "  print(\"Username tidak boleh kosong\")"
      ]
    }
  ],
  "metadata": {
    "colab": {
      "provenance": [],
      "authorship_tag": "ABX9TyPyJxKnpxHUQvFpdkvu286V",
      "include_colab_link": true
    },
    "kernelspec": {
      "display_name": "Python 3",
      "name": "python3"
    },
    "language_info": {
      "name": "python"
    }
  },
  "nbformat": 4,
  "nbformat_minor": 0
}
