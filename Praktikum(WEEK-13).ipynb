{
  "nbformat": 4,
  "nbformat_minor": 0,
  "metadata": {
    "colab": {
      "provenance": [],
      "authorship_tag": "ABX9TyPVmTo/NmGpJsPJR7Mpk5MR",
      "include_colab_link": true
    },
    "kernelspec": {
      "name": "python3",
      "display_name": "Python 3"
    },
    "language_info": {
      "name": "python"
    }
  },
  "cells": [
    {
      "cell_type": "markdown",
      "metadata": {
        "id": "view-in-github",
        "colab_type": "text"
      },
      "source": [
        "<a href=\"https://colab.research.google.com/github/salwafijri/praktikum/blob/main/Praktikum(WEEK-13).ipynb\" target=\"_parent\"><img src=\"https://colab.research.google.com/assets/colab-badge.svg\" alt=\"Open In Colab\"/></a>"
      ]
    },
    {
      "cell_type": "code",
      "execution_count": null,
      "metadata": {
        "colab": {
          "base_uri": "https://localhost:8080/"
        },
        "id": "WBmNhdDEAbfs",
        "outputId": "02f45bb3-07d7-4653-b8e6-642841c3feec"
      },
      "outputs": [
        {
          "output_type": "stream",
          "name": "stdout",
          "text": [
            "Rina\n",
            "19\n"
          ]
        }
      ],
      "source": [
        "class TheClass:\n",
        "  def __init__(self, name, age):\n",
        "    self.name = name\n",
        "    self.age = age\n",
        "p1 = TheClass(\"Rina\", 19)\n",
        "print(p1.name)\n",
        "print(p1.age)"
      ]
    },
    {
      "cell_type": "code",
      "source": [
        "class TheClass:\n",
        "  def __init__(self, name, age):\n",
        "    self.name = name\n",
        "    self.age = age\n",
        "  def __str__(self):\n",
        "    return f\"{self.name}({self.age})\"\n",
        "x = TheClass(\"Rina\", 19)\n",
        "print(x)"
      ],
      "metadata": {
        "colab": {
          "base_uri": "https://localhost:8080/"
        },
        "id": "gQJIEW3kEq29",
        "outputId": "b3c0ac6f-3972-475d-8a2e-29c4ef767227"
      },
      "execution_count": null,
      "outputs": [
        {
          "output_type": "stream",
          "name": "stdout",
          "text": [
            "Rina(19)\n"
          ]
        }
      ]
    },
    {
      "cell_type": "code",
      "source": [
        "class TheClass:\n",
        "  def __init__(self, name, age):\n",
        "    self.name = name\n",
        "    self.age = age\n",
        "  def func(my): # with 'my' parameter\n",
        "    print(\"My name is \" + my.name)\n",
        "x = TheClass(\"Rina\", 19)\n",
        "x.func()"
      ],
      "metadata": {
        "colab": {
          "base_uri": "https://localhost:8080/"
        },
        "id": "s4yz8MC0F5HV",
        "outputId": "39d3dcc8-536a-4208-c152-b382f27d86b3"
      },
      "execution_count": null,
      "outputs": [
        {
          "output_type": "stream",
          "name": "stdout",
          "text": [
            "My name is Rina\n"
          ]
        }
      ]
    },
    {
      "cell_type": "code",
      "source": [
        "# Parent class\n",
        "class TheClass:\n",
        "  def __init__(my, name1, name2):\n",
        "    my.name1 = name1\n",
        "    my.name2 = name2\n",
        "  def func(my): # with 'my' parameter\n",
        "    print(my.name1, my.name2)\n",
        "x = TheClass(\"Rina\", \"Panduwinata\")\n",
        "x.func()"
      ],
      "metadata": {
        "colab": {
          "base_uri": "https://localhost:8080/"
        },
        "id": "b728ygGqHVJV",
        "outputId": "16bacb3a-6e14-4fee-ca13-2186662151fd"
      },
      "execution_count": null,
      "outputs": [
        {
          "output_type": "stream",
          "name": "stdout",
          "text": [
            "Rina Panduwinata\n"
          ]
        }
      ]
    },
    {
      "cell_type": "code",
      "source": [
        "# child class\n",
        "class Human(TheClass):\n",
        "  def __init__(my, name1, name2):\n",
        "    my.name1 = name1\n",
        "    my.name2 = name2\n",
        "  def func(my): # with 'my' parameter\n",
        "    print(my.name1, my.name2)\n",
        "x = Human(\"Rina\", \"Panduwinata\")\n",
        "x.func()"
      ],
      "metadata": {
        "colab": {
          "base_uri": "https://localhost:8080/"
        },
        "id": "7m0dpAyYIYae",
        "outputId": "d25a9083-e5fd-4300-8691-35674e7d805e"
      },
      "execution_count": null,
      "outputs": [
        {
          "output_type": "stream",
          "name": "stdout",
          "text": [
            "Rina Panduwinata\n"
          ]
        }
      ]
    },
    {
      "cell_type": "code",
      "source": [
        "# iteration\n",
        "class MyNumbers:\n",
        "  def __iter__(my):\n",
        "    my.a = 1\n",
        "    return my\n",
        "\n",
        "  def __next__(my):\n",
        "    if my.a < 30:\n",
        "      x = my.a\n",
        "      my.a += 2\n",
        "      return x\n",
        "    else:\n",
        "      raise StopIteration\n",
        "\n",
        "myclass = MyNumbers()\n",
        "data = iter(myclass)\n",
        "\n",
        "for x in data:\n",
        "  print(x)"
      ],
      "metadata": {
        "colab": {
          "base_uri": "https://localhost:8080/"
        },
        "id": "b77qWl0QJ2JR",
        "outputId": "5fad8ca5-7a1d-4ec0-89fb-b40a72f0a7f7"
      },
      "execution_count": null,
      "outputs": [
        {
          "output_type": "stream",
          "name": "stdout",
          "text": [
            "1\n",
            "3\n",
            "5\n",
            "7\n",
            "9\n",
            "11\n",
            "13\n",
            "15\n",
            "17\n",
            "19\n",
            "21\n",
            "23\n",
            "25\n",
            "27\n",
            "29\n"
          ]
        }
      ]
    },
    {
      "cell_type": "markdown",
      "source": [
        "  **weekly  excercise 1**"
      ],
      "metadata": {
        "id": "THA2mteaMbir"
      }
    },
    {
      "cell_type": "code",
      "source": [
        "class AlatTulis:\n",
        "    def __init__(self, nama):\n",
        "        self.nama = nama\n",
        "        self.stok = 0\n",
        "        self.harga_satuan = 0\n",
        "        self.harga_total = 0\n",
        "        self.harga_terjual = 0  # Untuk mencatat pendapatan yang diperoleh dari barang terjual\n",
        "\n",
        "    def set_data(self, stok, harga_satuan):\n",
        "        self.stok = stok\n",
        "        self.harga_satuan = harga_satuan\n",
        "        self.harga_total = self.stok * self.harga_satuan\n",
        "\n",
        "    def get_data(self):\n",
        "        return f\"Nama: {self.nama} --> Stok: {self.stok}, Harga Satuan: {self.harga_satuan}, Harga Total: {self.harga_total}\"\n",
        "\n",
        "    def jual(self, jumlah):\n",
        "        if jumlah > self.stok:\n",
        "            print(f\"Stok {self.nama} tidak mencukupi untuk penjualan!\")\n",
        "        else:\n",
        "            self.stok -= jumlah\n",
        "            # Menambahkan pendapatan yang diperoleh dari penjualan barang\n",
        "            self.harga_terjual += jumlah * self.harga_satuan\n",
        "            print(f\"{jumlah} {self.nama} berhasil terjual!\")\n",
        "\n",
        "    def get_harga_terjual(self):\n",
        "        return self.harga_terjual\n",
        "\n",
        "\n",
        "class Transaksi:\n",
        "    def __init__(self):\n",
        "        self.total_harga = 0\n",
        "\n",
        "    def set_total_harga(self, daftar_alat_tulis):\n",
        "        # Menambahkan harga terjual setiap alat tulis ke total pendapatan\n",
        "        self.total_harga = sum(item.get_harga_terjual() for item in daftar_alat_tulis)\n",
        "\n",
        "    def get_total_harga(self):\n",
        "        return self.total_harga\n",
        "\n",
        "\n",
        "# Data sebelum penjualan\n",
        "bolpoint = AlatTulis(\"Bolpoint\")\n",
        "bolpoint.set_data(10, 2000)\n",
        "\n",
        "pensil = AlatTulis(\"Pensil\")\n",
        "pensil.set_data(10, 1000)\n",
        "\n",
        "penghapus = AlatTulis(\"Penghapus\")\n",
        "penghapus.set_data(10, 500)\n",
        "\n",
        "print(\"Data Alat Tulis Sebelum Penjualan:\")\n",
        "for alat_tulis in [bolpoint, pensil, penghapus]:\n",
        "    print(alat_tulis.get_data())\n",
        "print(\"\\nTransaksi yang masuk:\")\n",
        "\n",
        "# Penjualan\n",
        "bolpoint.jual(10)\n",
        "pensil.jual(10)\n",
        "penghapus.jual(10)\n",
        "\n",
        "# Data setelah penjualan\n",
        "transaksi = Transaksi()\n",
        "transaksi.set_total_harga([bolpoint, pensil, penghapus])\n",
        "\n",
        "print(\"\\nData Alat Tulis Setelah Penjualan:\")\n",
        "for alat_tulis in [bolpoint, pensil, penghapus]:\n",
        "    print(alat_tulis.get_data())\n",
        "\n",
        "print(f\"\\nTotal Pendapatan Keseluruhan: Rp. {transaksi.get_total_harga()}\")\n"
      ],
      "metadata": {
        "colab": {
          "base_uri": "https://localhost:8080/"
        },
        "id": "FCDlIH-IGV_u",
        "outputId": "ef7afc5e-a858-4aed-be24-eafa033c4697"
      },
      "execution_count": 1,
      "outputs": [
        {
          "output_type": "stream",
          "name": "stdout",
          "text": [
            "Data Alat Tulis Sebelum Penjualan:\n",
            "Nama: Bolpoint --> Stok: 10, Harga Satuan: 2000, Harga Total: 20000\n",
            "Nama: Pensil --> Stok: 10, Harga Satuan: 1000, Harga Total: 10000\n",
            "Nama: Penghapus --> Stok: 10, Harga Satuan: 500, Harga Total: 5000\n",
            "\n",
            "Transaksi yang masuk:\n",
            "10 Bolpoint berhasil terjual!\n",
            "10 Pensil berhasil terjual!\n",
            "10 Penghapus berhasil terjual!\n",
            "\n",
            "Data Alat Tulis Setelah Penjualan:\n",
            "Nama: Bolpoint --> Stok: 0, Harga Satuan: 2000, Harga Total: 20000\n",
            "Nama: Pensil --> Stok: 0, Harga Satuan: 1000, Harga Total: 10000\n",
            "Nama: Penghapus --> Stok: 0, Harga Satuan: 500, Harga Total: 5000\n",
            "\n",
            "Total Pendapatan Keseluruhan: Rp. 35000\n"
          ]
        }
      ]
    }
  ]
}