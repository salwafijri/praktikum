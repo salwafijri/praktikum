{
  "nbformat": 4,
  "nbformat_minor": 0,
  "metadata": {
    "colab": {
      "provenance": [],
      "authorship_tag": "ABX9TyMnFfkaQRQVTLKHESOv6PQZ",
      "include_colab_link": true
    },
    "kernelspec": {
      "name": "python3",
      "display_name": "Python 3"
    },
    "language_info": {
      "name": "python"
    }
  },
  "cells": [
    {
      "cell_type": "markdown",
      "metadata": {
        "id": "view-in-github",
        "colab_type": "text"
      },
      "source": [
        "<a href=\"https://colab.research.google.com/github/salwafijri/praktikum/blob/main/Praktikum%20(WEEK_04).ipynb\" target=\"_parent\"><img src=\"https://colab.research.google.com/assets/colab-badge.svg\" alt=\"Open In Colab\"/></a>"
      ]
    },
    {
      "cell_type": "code",
      "execution_count": null,
      "metadata": {
        "colab": {
          "base_uri": "https://localhost:8080/"
        },
        "id": "CZDL33_xlgsZ",
        "outputId": "15966939-8519-4b21-fe11-1492d25decc9"
      },
      "outputs": [
        {
          "output_type": "execute_result",
          "data": {
            "text/plain": [
              "False"
            ]
          },
          "metadata": {},
          "execution_count": 1
        }
      ],
      "source": [
        "# Condition Equal\n",
        "a = 5\n",
        "a == 8"
      ]
    },
    {
      "cell_type": "code",
      "source": [
        "# Inequality Sign\n",
        "\n",
        "i = 1\n",
        "i != 9"
      ],
      "metadata": {
        "colab": {
          "base_uri": "https://localhost:8080/"
        },
        "id": "qJvEq8C5l5ri",
        "outputId": "9cbdc48f-c0af-4d42-fd7d-057d92e513bd"
      },
      "execution_count": null,
      "outputs": [
        {
          "output_type": "execute_result",
          "data": {
            "text/plain": [
              "True"
            ]
          },
          "metadata": {},
          "execution_count": 4
        }
      ]
    },
    {
      "cell_type": "code",
      "source": [
        "# Inequality Sign\n",
        "\n",
        "i = 1\n",
        "i != 1"
      ],
      "metadata": {
        "colab": {
          "base_uri": "https://localhost:8080/"
        },
        "id": "UUg3oc_9mF5g",
        "outputId": "c7527124-54ea-4868-ca06-dd4450efa628"
      },
      "execution_count": null,
      "outputs": [
        {
          "output_type": "execute_result",
          "data": {
            "text/plain": [
              "False"
            ]
          },
          "metadata": {},
          "execution_count": 5
        }
      ]
    },
    {
      "cell_type": "code",
      "source": [
        "# Use Equality sign to compare the strings\n",
        "\"UNTIDAR\" == \"Teknologi Informaasi\""
      ],
      "metadata": {
        "colab": {
          "base_uri": "https://localhost:8080/"
        },
        "id": "Wqv-rAS8mOfJ",
        "outputId": "7af4e52f-8542-432f-eecd-cd48d5240ee3"
      },
      "execution_count": null,
      "outputs": [
        {
          "output_type": "execute_result",
          "data": {
            "text/plain": [
              "False"
            ]
          },
          "metadata": {},
          "execution_count": 6
        }
      ]
    },
    {
      "cell_type": "code",
      "source": [
        "# Use Equality sign to compare the strings\n",
        "\"UNTIDAR\" != \"Teknologi Informaasi\""
      ],
      "metadata": {
        "colab": {
          "base_uri": "https://localhost:8080/"
        },
        "id": "OJ2Nux_Jmgl_",
        "outputId": "d6ea9f08-164e-40e0-b19a-a671c8fcbde6"
      },
      "execution_count": null,
      "outputs": [
        {
          "output_type": "execute_result",
          "data": {
            "text/plain": [
              "True"
            ]
          },
          "metadata": {},
          "execution_count": 7
        }
      ]
    },
    {
      "cell_type": "code",
      "source": [
        "# Compare characters\n",
        "# the value for Z is larger than A\n",
        "\n",
        "'Z' > 'A'"
      ],
      "metadata": {
        "colab": {
          "base_uri": "https://localhost:8080/"
        },
        "id": "INKJwSjem136",
        "outputId": "8ada467b-d5b8-4c4d-f63e-8bf4c2aa0a39"
      },
      "execution_count": null,
      "outputs": [
        {
          "output_type": "execute_result",
          "data": {
            "text/plain": [
              "True"
            ]
          },
          "metadata": {},
          "execution_count": 8
        }
      ]
    },
    {
      "cell_type": "code",
      "source": [
        "# Compare characters\n",
        "\n",
        "'R' < 'A'"
      ],
      "metadata": {
        "colab": {
          "base_uri": "https://localhost:8080/"
        },
        "id": "W6GRHkOum6Yx",
        "outputId": "aebb90d2-61ad-41c8-92f1-9c2eef857e55"
      },
      "execution_count": null,
      "outputs": [
        {
          "output_type": "execute_result",
          "data": {
            "text/plain": [
              "False"
            ]
          },
          "metadata": {},
          "execution_count": 9
        }
      ]
    },
    {
      "cell_type": "code",
      "source": [
        "# If statement example\n",
        "\n",
        "#age = 25\n",
        "age = 20\n",
        "\n",
        "if age > 20:\n",
        "    print(\"you can enter\" )\n",
        "print(\"let's go!\")"
      ],
      "metadata": {
        "colab": {
          "base_uri": "https://localhost:8080/"
        },
        "id": "GQDGSPflm-ma",
        "outputId": "cd174323-2c15-4757-9fa9-597f4ad7f85a"
      },
      "execution_count": null,
      "outputs": [
        {
          "output_type": "stream",
          "name": "stdout",
          "text": [
            "let's go!\n"
          ]
        }
      ]
    },
    {
      "cell_type": "code",
      "source": [
        "# Else Statement\n",
        "\n",
        "#age = 20\n",
        "age = 24\n",
        "\n",
        "if age > 23:\n",
        "    print(\"you can enter\")\n",
        "else:\n",
        "    print(\"go see meat loaf\")\n",
        "    #print(\"let's go!\")\n",
        "print(\"let's go!\")"
      ],
      "metadata": {
        "colab": {
          "base_uri": "https://localhost:8080/"
        },
        "id": "DhV5GjKyn_bP",
        "outputId": "6c3d002a-fbb2-4d1c-cc75-e7eb5e6ac088"
      },
      "execution_count": null,
      "outputs": [
        {
          "output_type": "stream",
          "name": "stdout",
          "text": [
            "you can enter\n",
            "let's go!\n"
          ]
        }
      ]
    },
    {
      "cell_type": "code",
      "source": [
        "# Elif statment example\n",
        "\n",
        "age = 20\n",
        "\n",
        "if age > 20:\n",
        "    print(\"you can enter\" )\n",
        "elif age == 20:\n",
        "    print(\"go see frozen\")\n",
        "else:\n",
        "    print(\"go see meat loaf\")\n",
        "\n",
        "print(\"let's go!\")"
      ],
      "metadata": {
        "colab": {
          "base_uri": "https://localhost:8080/"
        },
        "id": "0XzpI380pH0G",
        "outputId": "7d8b8935-4bc6-4acd-d966-50b28abad3f5"
      },
      "execution_count": null,
      "outputs": [
        {
          "output_type": "stream",
          "name": "stdout",
          "text": [
            "go see frozen\n",
            "let's go!\n"
          ]
        }
      ]
    },
    {
      "cell_type": "markdown",
      "source": [
        "**QUIZ**"
      ],
      "metadata": {
        "id": "ACDqeuuMr6Fm"
      }
    },
    {
      "cell_type": "code",
      "source": [
        "#rate = 8.5\n",
        "rate = float(input(\"Rate for this album is \"))\n",
        "\n",
        "if rate > 8:\n",
        "    print(\"This Album is Amazing!\")"
      ],
      "metadata": {
        "colab": {
          "base_uri": "https://localhost:8080/"
        },
        "id": "NEMfOWqWr5im",
        "outputId": "45f99634-463d-4a5a-8ed3-a9503d301543"
      },
      "execution_count": null,
      "outputs": [
        {
          "output_type": "stream",
          "name": "stdout",
          "text": [
            "Rate for this album is 8.5\n",
            "This Album is Amazing!\n"
          ]
        }
      ]
    },
    {
      "cell_type": "markdown",
      "source": [
        "**Weekly Exercise 1**"
      ],
      "metadata": {
        "id": "k6oAftlswvRl"
      }
    },
    {
      "cell_type": "code",
      "source": [
        "Umur = int(input(\"Umur = \"))\n",
        "# pakai int karena nilai yang dimasukkan tipenya integer\n",
        "\n",
        "if Umur >= 17:\n",
        "  print(\"Boleh Membuat SIM\")\n",
        "else:\n",
        "  print(\"Tidak Boleh Membuat SIM\")"
      ],
      "metadata": {
        "colab": {
          "base_uri": "https://localhost:8080/"
        },
        "id": "wL4u_eCIww24",
        "outputId": "2ecb3f3e-2af0-4dc7-e5f5-7e42127a517f"
      },
      "execution_count": null,
      "outputs": [
        {
          "output_type": "stream",
          "name": "stdout",
          "text": [
            "Umur = 12\n",
            "Tidak Boleh Membuat SIM\n"
          ]
        }
      ]
    },
    {
      "cell_type": "code",
      "source": [
        "Umur = int(input(\"Umur = \"))\n",
        "\n",
        "if Umur >= 17:\n",
        "  print(\"Boleh Membuat SIM\")\n",
        "else:\n",
        "  print(\"Tidak Boleh Membuat SIM\")"
      ],
      "metadata": {
        "colab": {
          "base_uri": "https://localhost:8080/"
        },
        "id": "k84E9QiDyM2z",
        "outputId": "3e6ec551-125a-4c37-c0b3-325f6b0f8bf9"
      },
      "execution_count": null,
      "outputs": [
        {
          "output_type": "stream",
          "name": "stdout",
          "text": [
            "Umur = 18\n",
            "Boleh Membuat SIM\n"
          ]
        }
      ]
    },
    {
      "cell_type": "markdown",
      "source": [
        "**Weekly Exercise 2**"
      ],
      "metadata": {
        "id": "9oKOfvCryjWm"
      }
    },
    {
      "cell_type": "code",
      "source": [
        "Nilai = int(input(\"Nilai = \"))\n",
        "# pakai int karena nilai yang dimasukkan tipenya integer\n",
        "\n",
        "if Nilai >= 90:\n",
        "  print(\"Grade = 'A'\")\n",
        "elif Nilai >= 80:\n",
        "  print(\"Grade = 'B+'\")\n",
        "elif Nilai >= 70:\n",
        "  print(\"Grade = 'B'\")\n",
        "elif Nilai >= 60:\n",
        "  print(\"Grade = 'C+'\")\n",
        "elif Nilai >= 50:\n",
        "  print(\"Grade = 'C'\")\n",
        "elif Nilai >= 40:\n",
        "  print(\"Grade = 'D'\")\n",
        "else:\n",
        "  print(\"Grade = 'E'\")"
      ],
      "metadata": {
        "colab": {
          "base_uri": "https://localhost:8080/"
        },
        "id": "WkHxy64oyRB4",
        "outputId": "224f455b-fb3a-49ac-e523-b60e732d5ee0"
      },
      "execution_count": null,
      "outputs": [
        {
          "output_type": "stream",
          "name": "stdout",
          "text": [
            "Nilai = 67\n",
            "Grade = 'C+'\n"
          ]
        }
      ]
    },
    {
      "cell_type": "markdown",
      "source": [
        "**Weekly Exercise 3**"
      ],
      "metadata": {
        "id": "f3nPiAppx_1I"
      }
    },
    {
      "cell_type": "code",
      "source": [
        "Nilai = float(input(\"Nilai = \"))\n",
        "# pakai float karena nilai yang dipakai berbentuk desimal\n",
        "\n",
        "if 80.00 <= Nilai <= 100:\n",
        "  print(\"Grade = 'A'\")\n",
        "elif 77.50 <= Nilai <= 79.99:\n",
        "  print(\"Grade = 'A-'\")\n",
        "elif 75.00 <= Nilai <= 77.49:\n",
        "  print(\"Grade = 'A/B'\")\n",
        "elif 72.50 <= Nilai <= 74.99:\n",
        "  print(\"Grade = 'B+'\")\n",
        "elif 70.00 <= Nilai <= 72.49:\n",
        "  print(\"Grade = 'B'\")\n",
        "elif 67.50 <= Nilai <= 69.99:\n",
        "  print(\"Grade = 'B-'\")\n",
        "elif 65.00 <= Nilai <= 67.49:\n",
        "  print(\"Grade = 'B/C'\")\n",
        "elif 62.50 <= Nilai <= 64.99:\n",
        " print(\"Grade = 'C+'\")\n",
        "elif 60.00 <= Nilai <= 62.49:\n",
        "  print(\"Grade = 'C'\")\n",
        "elif 55.00 <= Nilai <= 59.99:\n",
        "  print(\"Grade = 'C-'\")\n",
        "elif 50.00 <= Nilai <= 54.99:\n",
        "  print(\"Grade = 'C/D'\")\n",
        "elif 45.00 <= Nilai <= 49.99:\n",
        "  print(\"Grade = 'D+'\")\n",
        "elif 40.00 <= Nilai <= 44.99:\n",
        "  print(\"Grade = 'D'\")\n",
        "else:\n",
        "  print(\"Grade = 'E'\")"
      ],
      "metadata": {
        "colab": {
          "base_uri": "https://localhost:8080/"
        },
        "id": "caPP3N5KytbF",
        "outputId": "e352efbd-aa7b-4783-ad65-20624b0386f4"
      },
      "execution_count": 4,
      "outputs": [
        {
          "output_type": "stream",
          "name": "stdout",
          "text": [
            "Nilai = 72.15\n",
            "Grade = 'B'\n"
          ]
        }
      ]
    },
    {
      "cell_type": "code",
      "source": [],
      "metadata": {
        "id": "4MBkwmNvZViT"
      },
      "execution_count": null,
      "outputs": []
    }
  ]
}
