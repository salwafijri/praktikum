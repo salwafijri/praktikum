{
  "nbformat": 4,
  "nbformat_minor": 0,
  "metadata": {
    "colab": {
      "provenance": []
    },
    "kernelspec": {
      "name": "python3",
      "display_name": "Python 3"
    },
    "language_info": {
      "name": "python"
    }
  },
  "cells": [
    {
      "cell_type": "markdown",
      "source": [
        "**Soal No. 1**"
      ],
      "metadata": {
        "id": "u86zztVp5n8L"
      }
    },
    {
      "cell_type": "code",
      "execution_count": null,
      "metadata": {
        "colab": {
          "base_uri": "https://localhost:8080/"
        },
        "id": "PYpaeCHmyF-1",
        "outputId": "edee51f9-ffab-4e8a-b8ae-40af8473b1f7"
      },
      "outputs": [
        {
          "output_type": "stream",
          "name": "stdout",
          "text": [
            "Masukkan NPM Anda: 2420506019\n",
            "Jumlah bilangan genap: 7\n",
            "Jumlah bilangan ganjil: 3\n"
          ]
        }
      ],
      "source": [
        "num = (input(\"Masukkan NPM Anda: \")) # input npm\n",
        "genap = 0 # inisialisai 0 dulu sebelum ditambah\n",
        "ganjil = 0\n",
        "\n",
        "for x in num:\n",
        "  if int(x) % 2 == 0: # jika angka nya habis dibagi 2\n",
        "    genap += 1 # nilai genap akan bertambah 1\n",
        "  else:\n",
        "    ganjil += 1 # jika tidak, nilai ganjil akan bertambah 1\n",
        "\n",
        "print(f\"Jumlah bilangan genap: {genap}\")\n",
        "print(f\"Jumlah bilangan ganjil: {ganjil}\")"
      ]
    },
    {
      "cell_type": "markdown",
      "source": [
        "**Soal No. 2**"
      ],
      "metadata": {
        "id": "WLEMm_kD55wN"
      }
    },
    {
      "cell_type": "code",
      "source": [
        "n = int(input(\"Masukkan tinggi segitiga = \"))\n",
        "\n",
        "for i in range(1, n+1):\n",
        "    # nested loop\n",
        "    for j in range(1, i+1):\n",
        "        # print multiplication\n",
        "        print(i * j, end=' ')\n",
        "    print()"
      ],
      "metadata": {
        "colab": {
          "base_uri": "https://localhost:8080/"
        },
        "id": "4OaqKfGX0HlP",
        "outputId": "c9abc03c-0f2f-4e68-ba28-b7b33e9bda2a"
      },
      "execution_count": 19,
      "outputs": [
        {
          "output_type": "stream",
          "name": "stdout",
          "text": [
            "Masukkan tinggi segitiga = 10\n",
            "1 \n",
            "2 4 \n",
            "3 6 9 \n",
            "4 8 12 16 \n",
            "5 10 15 20 25 \n",
            "6 12 18 24 30 36 \n",
            "7 14 21 28 35 42 49 \n",
            "8 16 24 32 40 48 56 64 \n",
            "9 18 27 36 45 54 63 72 81 \n",
            "10 20 30 40 50 60 70 80 90 100 \n"
          ]
        }
      ]
    }
  ]
}