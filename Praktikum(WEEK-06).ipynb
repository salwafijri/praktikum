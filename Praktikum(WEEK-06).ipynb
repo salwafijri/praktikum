{
  "nbformat": 4,
  "nbformat_minor": 0,
  "metadata": {
    "colab": {
      "provenance": [],
      "authorship_tag": "ABX9TyNhlvXR9yR6xYNKz+LOtTZO",
      "include_colab_link": true
    },
    "kernelspec": {
      "name": "python3",
      "display_name": "Python 3"
    },
    "language_info": {
      "name": "python"
    }
  },
  "cells": [
    {
      "cell_type": "markdown",
      "metadata": {
        "id": "view-in-github",
        "colab_type": "text"
      },
      "source": [
        "<a href=\"https://colab.research.google.com/github/salwafijri/praktikum/blob/main/Praktikum(WEEK-06).ipynb\" target=\"_parent\"><img src=\"https://colab.research.google.com/assets/colab-badge.svg\" alt=\"Open In Colab\"/></a>"
      ]
    },
    {
      "cell_type": "markdown",
      "source": [
        "**Loops in Python**"
      ],
      "metadata": {
        "id": "PuUCEui9oM2-"
      }
    },
    {
      "cell_type": "code",
      "execution_count": null,
      "metadata": {
        "colab": {
          "base_uri": "https://localhost:8080/"
        },
        "id": "i1Ew1EZ4nW2D",
        "outputId": "c890fc49-52ad-4e36-a5b8-5ae826c2e15d"
      },
      "outputs": [
        {
          "output_type": "execute_result",
          "data": {
            "text/plain": [
              "range(0, 5)"
            ]
          },
          "metadata": {},
          "execution_count": 1
        }
      ],
      "source": [
        "#range\n",
        "range(5)"
      ]
    },
    {
      "cell_type": "code",
      "source": [
        "# 'for' loops\n",
        "Nilai = [90,92,94,96]\n",
        "N = 2\n",
        "\n",
        "for a in range(N):\n",
        "    print(Nilai[a])"
      ],
      "metadata": {
        "colab": {
          "base_uri": "https://localhost:8080/"
        },
        "id": "kobX2eigoWoh",
        "outputId": "32c56cfd-c7eb-4674-f71d-0a67d72426c6"
      },
      "execution_count": null,
      "outputs": [
        {
          "output_type": "stream",
          "name": "stdout",
          "text": [
            "90\n",
            "92\n"
          ]
        }
      ]
    },
    {
      "cell_type": "code",
      "source": [
        "# 'While' Loop\n",
        "list = [2, 4, 6, 8]\n",
        "\n",
        "i = 0\n",
        "num = 0\n",
        "\n",
        "while(num != 6):\n",
        "    num = list[i]\n",
        "    i = i + 1\n",
        "    print(num)\n",
        "\n",
        "print(\"It took \", i ,\"repetitions to get out of loop.\")"
      ],
      "metadata": {
        "colab": {
          "base_uri": "https://localhost:8080/"
        },
        "id": "L7xYPhmSsLsO",
        "outputId": "30970563-b5ce-479a-b79d-e39fc3ca113d"
      },
      "execution_count": null,
      "outputs": [
        {
          "output_type": "stream",
          "name": "stdout",
          "text": [
            "2\n",
            "4\n",
            "6\n",
            "It took  3 repetitions to get out of loop.\n"
          ]
        }
      ]
    },
    {
      "cell_type": "code",
      "source": [
        "# 'Nested' Loop\n",
        "\n",
        "# outer loop\n",
        "for i in range(0, 11):\n",
        "    # nested loop\n",
        "    for j in range(0, 11):\n",
        "        print(i * j, end=' ')\n",
        "    print()"
      ],
      "metadata": {
        "colab": {
          "base_uri": "https://localhost:8080/"
        },
        "id": "ly7Jqr9hlr3D",
        "outputId": "bae312f0-0460-4675-cb76-624deccb95fa"
      },
      "execution_count": null,
      "outputs": [
        {
          "output_type": "stream",
          "name": "stdout",
          "text": [
            "0 0 0 0 0 0 0 0 0 0 0 \n",
            "0 1 2 3 4 5 6 7 8 9 10 \n",
            "0 2 4 6 8 10 12 14 16 18 20 \n",
            "0 3 6 9 12 15 18 21 24 27 30 \n",
            "0 4 8 12 16 20 24 28 32 36 40 \n",
            "0 5 10 15 20 25 30 35 40 45 50 \n",
            "0 6 12 18 24 30 36 42 48 54 60 \n",
            "0 7 14 21 28 35 42 49 56 63 70 \n",
            "0 8 16 24 32 40 48 56 64 72 80 \n",
            "0 9 18 27 36 45 54 63 72 81 90 \n",
            "0 10 20 30 40 50 60 70 80 90 100 \n"
          ]
        }
      ]
    },
    {
      "cell_type": "code",
      "source": [
        "# While Loop Inside a For Loop\n",
        "\n",
        "flowers = ['Rose', 'Jasmine', 'Lily']\n",
        "# outer loop\n",
        "for flower in flowers:\n",
        "    # inner while loop\n",
        "    a = 0\n",
        "    while a < 10:\n",
        "        print(flower, end=' ')\n",
        "        # increment counter\n",
        "        a = a + 1\n",
        "    print()"
      ],
      "metadata": {
        "colab": {
          "base_uri": "https://localhost:8080/"
        },
        "id": "RSaZUvDtnMzy",
        "outputId": "f7daf67b-8d3a-419d-f3e5-1ed249648215"
      },
      "execution_count": null,
      "outputs": [
        {
          "output_type": "stream",
          "name": "stdout",
          "text": [
            "Rose Rose Rose Rose Rose Rose Rose Rose Rose Rose \n",
            "Jasmine Jasmine Jasmine Jasmine Jasmine Jasmine Jasmine Jasmine Jasmine Jasmine \n",
            "Lily Lily Lily Lily Lily Lily Lily Lily Lily Lily \n"
          ]
        }
      ]
    },
    {
      "cell_type": "code",
      "source": [
        "# Break Nested Loop\n",
        "\n",
        "for a in range(0, 4):\n",
        "  for b in range(0, 4):\n",
        "    if b == a:\n",
        "      break\n",
        "    print(a, b)"
      ],
      "metadata": {
        "colab": {
          "base_uri": "https://localhost:8080/"
        },
        "id": "HeN65GhYpKbH",
        "outputId": "0f5798ae-aae4-43de-9854-874edddbb8df"
      },
      "execution_count": null,
      "outputs": [
        {
          "output_type": "stream",
          "name": "stdout",
          "text": [
            "1 0\n",
            "2 0\n",
            "2 1\n",
            "3 0\n",
            "3 1\n",
            "3 2\n"
          ]
        }
      ]
    },
    {
      "cell_type": "code",
      "source": [
        "# Continue Nested Loop\n",
        "\n",
        "x = [5, 10, 15]\n",
        "y = [2, 4, 6]\n",
        "for i in x:\n",
        "  for j in y:\n",
        "    if i == j:\n",
        "      continue\n",
        "    print(i, '+', j, '= ', i + j)"
      ],
      "metadata": {
        "colab": {
          "base_uri": "https://localhost:8080/"
        },
        "id": "njkv1beCp3V_",
        "outputId": "a25cda3e-ab74-477b-b5fe-1927334e5526"
      },
      "execution_count": null,
      "outputs": [
        {
          "output_type": "stream",
          "name": "stdout",
          "text": [
            "5 + 2 =  7\n",
            "5 + 4 =  9\n",
            "5 + 6 =  11\n",
            "10 + 2 =  12\n",
            "10 + 4 =  14\n",
            "10 + 6 =  16\n",
            "15 + 2 =  17\n",
            "15 + 4 =  19\n",
            "15 + 6 =  21\n"
          ]
        }
      ]
    },
    {
      "cell_type": "code",
      "source": [
        "# Nested While Loop\n",
        "\n",
        "i = 1\n",
        "\n",
        "while (i <= 5) :\n",
        "    bintang = \"\"\n",
        "    j = 5\n",
        "    k = 2\n",
        "    while (j >= i) :\n",
        "        bintang += \" \"\n",
        "        j -= 1\n",
        "    while (k <= i) :\n",
        "        bintang += \"*_\"\n",
        "        k += 1\n",
        "    bintang += \"*\"\n",
        "    print(bintang)\n",
        "    i += 1"
      ],
      "metadata": {
        "colab": {
          "base_uri": "https://localhost:8080/"
        },
        "id": "EitSY3NqqtLm",
        "outputId": "3756095a-d490-4dfe-9fe6-33c7118748ea"
      },
      "execution_count": null,
      "outputs": [
        {
          "output_type": "stream",
          "name": "stdout",
          "text": [
            "     *\n",
            "    *_*\n",
            "   *_*_*\n",
            "  *_*_*_*\n",
            " *_*_*_*_*\n"
          ]
        }
      ]
    },
    {
      "cell_type": "markdown",
      "source": [
        "# **Weekly Exercise 1**"
      ],
      "metadata": {
        "id": "vGZCw89Aulgt"
      }
    },
    {
      "cell_type": "code",
      "source": [
        "n = int(input(\"Jumlah baris piramida bintang = \"))\n",
        "\n",
        "for a in range(1, n+1, 1):\n",
        "  star = \"\"\n",
        "  for b in range(n, a, -1):\n",
        "      star += \" \"  # cetak spasi\n",
        "  for c in range(1, a, 1):\n",
        "    star += \"* \" # cetak \"* \"\n",
        "  star += \"*\" # cetak lagi \"*\"\n",
        "  print(star)"
      ],
      "metadata": {
        "colab": {
          "base_uri": "https://localhost:8080/"
        },
        "id": "IbfMTLf4ulHe",
        "outputId": "55e00085-5d74-42cd-b271-4f52f2280e49"
      },
      "execution_count": 2,
      "outputs": [
        {
          "output_type": "stream",
          "name": "stdout",
          "text": [
            "Jumlah baris piramida bintang = 6\n",
            "     *\n",
            "    * *\n",
            "   * * *\n",
            "  * * * *\n",
            " * * * * *\n",
            "* * * * * *\n"
          ]
        }
      ]
    },
    {
      "cell_type": "markdown",
      "source": [
        "## **Weekly Exercise 2**"
      ],
      "metadata": {
        "id": "m42l-7o83dL9"
      }
    },
    {
      "cell_type": "code",
      "source": [
        "N = int(input(\"jumlah baris segitiga pascal = \"))\n",
        "\n",
        "for i in range(1, N + 1): # i adalah nomor baris saat ini\n",
        "    # Cetak spasi\n",
        "    for j in range(0, N - i + 1): # j merepresentasikan nomor kolom saat ini di dalam baris\n",
        "\n",
        "        print(\" \", end=\"\")\n",
        "    a = 1\n",
        "    for j in range(1, i+1):\n",
        "      print(' ', a, sep='', end='')\n",
        "      a = a * (i - j) // j\n",
        "    print()"
      ],
      "metadata": {
        "colab": {
          "base_uri": "https://localhost:8080/"
        },
        "id": "aMXpNAHeu-bW",
        "outputId": "64d304c1-33a7-4f27-ff87-6067a26f78d3"
      },
      "execution_count": null,
      "outputs": [
        {
          "output_type": "stream",
          "name": "stdout",
          "text": [
            "jumlah baris segitiga pascal = 5\n",
            "      1\n",
            "     1 1\n",
            "    1 2 1\n",
            "   1 3 3 1\n",
            "  1 4 6 4 1\n"
          ]
        }
      ]
    },
    {
      "cell_type": "markdown",
      "source": [
        "# **Weekly Exercise 3**"
      ],
      "metadata": {
        "id": "WVvNQjv73i18"
      }
    },
    {
      "cell_type": "code",
      "source": [
        "N = int(input(\"Baris ke = \"))\n",
        "\n",
        "N = N - 1\n",
        "a = 1\n",
        "jumlah = 0\n",
        "\n",
        "for j in range(N + 1):\n",
        "    print(a, end=\" \")  # Cetak setiap angka dalam baris\n",
        "    jumlah += a  # Tambahkan angka ke total jumlah baris\n",
        "    # Hitung angka berikutnya dalam baris\n",
        "    a = a * (N - j) // (j + 1)  # kombinasi berikutnya dalam baris\n",
        "print(f\"\\nHasil penjumlahan angka di baris ke\", N + 1, \"adalah\", jumlah)"
      ],
      "metadata": {
        "colab": {
          "base_uri": "https://localhost:8080/"
        },
        "id": "knSu75MqqgOa",
        "outputId": "405de14d-291a-4530-85b5-d5202cc76c5b"
      },
      "execution_count": 6,
      "outputs": [
        {
          "output_type": "stream",
          "name": "stdout",
          "text": [
            "Baris ke = 5\n",
            "1 4 6 4 1 \n",
            "Hasil penjumlahan angka di baris ke 5 adalah 16\n"
          ]
        }
      ]
    }
  ]
}