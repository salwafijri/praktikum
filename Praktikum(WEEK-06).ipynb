{
  "nbformat": 4,
  "nbformat_minor": 0,
  "metadata": {
    "colab": {
      "provenance": [],
      "authorship_tag": "ABX9TyNT9ANbBF0HYJZYnXayXkxA",
      "include_colab_link": true
    },
    "kernelspec": {
      "name": "python3",
      "display_name": "Python 3"
    },
    "language_info": {
      "name": "python"
    }
  },
  "cells": [
    {
      "cell_type": "markdown",
      "metadata": {
        "id": "view-in-github",
        "colab_type": "text"
      },
      "source": [
        "<a href=\"https://colab.research.google.com/github/salwafijri/praktikum/blob/main/Praktikum(WEEK-06).ipynb\" target=\"_parent\"><img src=\"https://colab.research.google.com/assets/colab-badge.svg\" alt=\"Open In Colab\"/></a>"
      ]
    },
    {
      "cell_type": "markdown",
      "source": [
        "**List**"
      ],
      "metadata": {
        "id": "pGrX9X-E6Jbq"
      }
    },
    {
      "cell_type": "code",
      "source": [
        "# list items and change list items\n",
        "color = [\"white\", \"blue\", \"pink\"]\n",
        "color[1] = \"black\"\n",
        "print(color)\n"
      ],
      "metadata": {
        "colab": {
          "base_uri": "https://localhost:8080/"
        },
        "id": "gf0cjGMN53MD",
        "outputId": "874d9986-6c90-4117-f1d5-7ef52b94e5c7"
      },
      "execution_count": null,
      "outputs": [
        {
          "output_type": "stream",
          "name": "stdout",
          "text": [
            "['white', 'black', 'pink']\n"
          ]
        }
      ]
    },
    {
      "cell_type": "code",
      "source": [
        "# list lenght\n",
        "print(len(color))"
      ],
      "metadata": {
        "colab": {
          "base_uri": "https://localhost:8080/"
        },
        "id": "2qIvFt_79Sp0",
        "outputId": "3c5b782b-c406-411f-a0da-987c3157e306"
      },
      "execution_count": null,
      "outputs": [
        {
          "output_type": "stream",
          "name": "stdout",
          "text": [
            "3\n"
          ]
        }
      ]
    },
    {
      "cell_type": "code",
      "source": [
        "#String, int and boolean data types in list:\n",
        "list1 = [\"white\", \"blue\", \"pink\"]\n",
        "list2 = [0, 9, 6, 4, 1]\n",
        "list3 = [True, False, False]\n",
        "list4 = [\"white\", \"27\", True, 40]\n",
        "list5 = list1 + list2 + list3\n",
        "print(list1)\n",
        "print(list2)\n",
        "print(list3)\n",
        "print(list4)\n",
        "print(list5)"
      ],
      "metadata": {
        "colab": {
          "base_uri": "https://localhost:8080/"
        },
        "id": "iuF5yKfz9jmk",
        "outputId": "80283ac4-1593-4cb0-bbdb-b0d8462757e7"
      },
      "execution_count": null,
      "outputs": [
        {
          "output_type": "stream",
          "name": "stdout",
          "text": [
            "['white', 'blue', 'pink']\n",
            "[0, 9, 6, 4, 1]\n",
            "[True, False, False]\n",
            "['white', '27', True, 40]\n",
            "['white', 'blue', 'pink', 0, 9, 6, 4, 1, True, False, False]\n"
          ]
        }
      ]
    },
    {
      "cell_type": "code",
      "source": [
        "# type\n",
        "color = [\"white\", \"blue\", \"pink\"]\n",
        "print(type(color))"
      ],
      "metadata": {
        "colab": {
          "base_uri": "https://localhost:8080/"
        },
        "id": "wzvDcxLg-Q7V",
        "outputId": "54c753b5-71c7-4880-a5e1-013b240f4c87"
      },
      "execution_count": null,
      "outputs": [
        {
          "output_type": "stream",
          "name": "stdout",
          "text": [
            "<class 'list'>\n"
          ]
        }
      ]
    },
    {
      "cell_type": "code",
      "source": [
        "color = [\"white\", \"blue\", \"pink\"]\n",
        "print(color[1])\n",
        "print(color[-3])\n",
        "print(color[:3])"
      ],
      "metadata": {
        "colab": {
          "base_uri": "https://localhost:8080/"
        },
        "id": "FTI0KL2u__xk",
        "outputId": "f2966f97-a4b9-4d22-fa6e-03e58fdabf05"
      },
      "execution_count": null,
      "outputs": [
        {
          "output_type": "stream",
          "name": "stdout",
          "text": [
            "blue\n",
            "white\n",
            "['white', 'blue', 'pink']\n"
          ]
        }
      ]
    },
    {
      "cell_type": "code",
      "source": [
        "if \"white\" in color:\n",
        "  print(\"Yes, 'white' is in the color list\")\n",
        "else :\n",
        "  print(\"No\")"
      ],
      "metadata": {
        "colab": {
          "base_uri": "https://localhost:8080/"
        },
        "id": "qhztBMLxA4q1",
        "outputId": "dff923fb-6878-4ce7-95c2-ac6501f2800f"
      },
      "execution_count": null,
      "outputs": [
        {
          "output_type": "stream",
          "name": "stdout",
          "text": [
            "Yes, 'white' is in the color list\n"
          ]
        }
      ]
    },
    {
      "cell_type": "code",
      "source": [
        "# 'for' loop list\n",
        "color = [\"white\", \"blue\", \"pink\"]\n",
        "for x in color:\n",
        "  print(x)"
      ],
      "metadata": {
        "colab": {
          "base_uri": "https://localhost:8080/"
        },
        "id": "wp55GbOnBygk",
        "outputId": "c958db7d-85ba-4143-e41c-3d9b16a5ed59"
      },
      "execution_count": null,
      "outputs": [
        {
          "output_type": "stream",
          "name": "stdout",
          "text": [
            "white\n",
            "blue\n",
            "pink\n"
          ]
        }
      ]
    },
    {
      "cell_type": "code",
      "source": [
        "color = [\"white\", \"blue\", \"pink\"]\n",
        "i = 0\n",
        "while i < len(color):\n",
        "  print(color[i])\n",
        "  i = i + 1"
      ],
      "metadata": {
        "colab": {
          "base_uri": "https://localhost:8080/"
        },
        "id": "WfPd4kMWByRk",
        "outputId": "7fbd739b-b2dc-440f-b440-5d9de9027751"
      },
      "execution_count": null,
      "outputs": [
        {
          "output_type": "stream",
          "name": "stdout",
          "text": [
            "white\n",
            "blue\n",
            "pink\n"
          ]
        }
      ]
    },
    {
      "cell_type": "code",
      "source": [
        "# join list\n",
        "list1 = [\"white\", \"blue\", \"pink\"]\n",
        "list2 = [0, 9, 6, 4, 1]\n",
        "for x in list2:\n",
        "  list1.append(x)\n",
        "\n",
        "print(list1)"
      ],
      "metadata": {
        "colab": {
          "base_uri": "https://localhost:8080/"
        },
        "id": "GOWC2F1nGM5F",
        "outputId": "cbf16d8c-346b-47a5-9b31-3d59476c860c"
      },
      "execution_count": null,
      "outputs": [
        {
          "output_type": "stream",
          "name": "stdout",
          "text": [
            "['white', 'blue', 'pink', 0, 9, 6, 4, 1]\n"
          ]
        }
      ]
    },
    {
      "cell_type": "code",
      "execution_count": null,
      "metadata": {
        "colab": {
          "base_uri": "https://localhost:8080/"
        },
        "id": "Rvn3Lbw11MXZ",
        "outputId": "58d3d743-8cbd-4049-cf05-8035862422e9"
      },
      "outputs": [
        {
          "output_type": "stream",
          "name": "stdout",
          "text": [
            "brand\n",
            "model\n",
            "year\n"
          ]
        }
      ],
      "source": [
        "thisdict =\t{\n",
        "  \"brand\": \"salwa\",\n",
        "  \"model\": \"Mustang\",\n",
        "  \"year\": 1964\n",
        "}\n",
        "for x in thisdict:\n",
        "  print(x)"
      ]
    },
    {
      "cell_type": "markdown",
      "source": [
        "**Tuple**"
      ],
      "metadata": {
        "id": "ktaNT4QdG2Ne"
      }
    },
    {
      "cell_type": "code",
      "source": [
        "# tuple items\n",
        "data = (\"nama\", \"kelas\", \"absen\")\n",
        "print(data)"
      ],
      "metadata": {
        "colab": {
          "base_uri": "https://localhost:8080/"
        },
        "id": "lTBPhP4CG5jN",
        "outputId": "027d21c3-fda5-4150-d270-c02eaebf52b2"
      },
      "execution_count": null,
      "outputs": [
        {
          "output_type": "stream",
          "name": "stdout",
          "text": [
            "('nama', 'kelas', 'absen')\n"
          ]
        }
      ]
    },
    {
      "cell_type": "code",
      "source": [
        "# loop in tuple\n",
        "data = (\"nama\", \"kelas\", \"absen\")\n",
        "for x in data:\n",
        "  print(x)"
      ],
      "metadata": {
        "colab": {
          "base_uri": "https://localhost:8080/"
        },
        "id": "d8n0CiP1HZQG",
        "outputId": "d3956101-4a02-4d90-c23a-3abaf7509fa2"
      },
      "execution_count": null,
      "outputs": [
        {
          "output_type": "stream",
          "name": "stdout",
          "text": [
            "nama\n",
            "kelas\n",
            "absen\n"
          ]
        }
      ]
    },
    {
      "cell_type": "markdown",
      "source": [
        "**Set**"
      ],
      "metadata": {
        "id": "JHHAj0sIHtkO"
      }
    },
    {
      "cell_type": "code",
      "source": [
        "data1 = {\"white\", \"blue\", \"pink\"}\n",
        "data2 = {0, 9, 6, 4, 1}\n",
        "data3 = {True, False, False}\n",
        "data4 = {\"white\", \"27\", True, 40}\n",
        "data5 = list1 + list2 + list3\n",
        "print(data1)\n",
        "print(data2)\n",
        "print(data3)\n",
        "print(data4)\n",
        "print(data5)"
      ],
      "metadata": {
        "colab": {
          "base_uri": "https://localhost:8080/"
        },
        "id": "LyMk7boQHv0F",
        "outputId": "205d5fc2-ee2f-4357-fb9e-37e949b6ebbf"
      },
      "execution_count": null,
      "outputs": [
        {
          "output_type": "stream",
          "name": "stdout",
          "text": [
            "{'white', 'pink', 'blue'}\n",
            "{0, 1, 4, 6, 9}\n",
            "{False, True}\n",
            "{40, 'white', '27', True}\n",
            "['white', 'blue', 'pink', 0, 9, 6, 4, 1, 0, 9, 6, 4, 1, True, False, False]\n"
          ]
        }
      ]
    },
    {
      "cell_type": "code",
      "source": [
        "# loops set\n",
        "for x in data4:\n",
        "  print(x)"
      ],
      "metadata": {
        "colab": {
          "base_uri": "https://localhost:8080/"
        },
        "id": "M4WJph32Imgn",
        "outputId": "26b66bf1-fed4-488c-8a6a-37e3a25d04a2"
      },
      "execution_count": null,
      "outputs": [
        {
          "output_type": "stream",
          "name": "stdout",
          "text": [
            "40\n",
            "white\n",
            "27\n",
            "True\n"
          ]
        }
      ]
    },
    {
      "cell_type": "code",
      "source": [
        "# keep only the duplicate\n",
        "data1 = {\"white\", \"blue\", \"pink\"}\n",
        "data2 = {\"black\", \"yellow\", \"white\"}\n",
        "data1.intersection_update(data2)\n",
        "print(data1)"
      ],
      "metadata": {
        "colab": {
          "base_uri": "https://localhost:8080/"
        },
        "id": "TSbwH-oxJD3_",
        "outputId": "78131b66-231c-4c92-c0e0-85b238b9bbe2"
      },
      "execution_count": null,
      "outputs": [
        {
          "output_type": "stream",
          "name": "stdout",
          "text": [
            "{'white'}\n"
          ]
        }
      ]
    },
    {
      "cell_type": "code",
      "source": [
        "# keep all but not the duplicate\n",
        "data1 = {\"white\", \"blue\", \"pink\"}\n",
        "data2 = {\"black\", \"yellow\", \"white\"}\n",
        "data1.symmetric_difference_update(data2)\n",
        "print(data1)"
      ],
      "metadata": {
        "colab": {
          "base_uri": "https://localhost:8080/"
        },
        "id": "WK6OvI45JiiO",
        "outputId": "50ecd134-3074-46bb-bd0c-6d5662578672"
      },
      "execution_count": null,
      "outputs": [
        {
          "output_type": "stream",
          "name": "stdout",
          "text": [
            "{'yellow', 'black', 'pink', 'blue'}\n"
          ]
        }
      ]
    },
    {
      "cell_type": "markdown",
      "source": [
        "**Dictionary**"
      ],
      "metadata": {
        "id": "a929vnpXJx6W"
      }
    },
    {
      "cell_type": "code",
      "source": [
        "# dictionary items\n",
        "dict_data = {\n",
        "    \"Nama:\": \"Salwa Fijri Rahayu\",\n",
        "    \"Kelas:\": \"Rombel 1\",\n",
        "    \"Tanggal Lahir:\": \"6 Januari 2007\"\n",
        "}\n",
        "print(dict_data)"
      ],
      "metadata": {
        "colab": {
          "base_uri": "https://localhost:8080/"
        },
        "id": "rhUuMdGyJ2AN",
        "outputId": "f90f5214-dd57-4d07-9cff-41d909516228"
      },
      "execution_count": null,
      "outputs": [
        {
          "output_type": "stream",
          "name": "stdout",
          "text": [
            "{'Nama:': 'Salwa Fijri Rahayu', 'Kelas:': 'Rombel 1', 'Tanggal Lahir:': '6 Januari 2007'}\n"
          ]
        }
      ]
    },
    {
      "cell_type": "code",
      "source": [
        "# loops\n",
        "for x, y in dict_data.items():\n",
        "  print(x, y)"
      ],
      "metadata": {
        "colab": {
          "base_uri": "https://localhost:8080/"
        },
        "id": "0dEHpMMlKl2n",
        "outputId": "aa1bb350-01f1-4596-cdb3-c920084759a3"
      },
      "execution_count": null,
      "outputs": [
        {
          "output_type": "stream",
          "name": "stdout",
          "text": [
            "Nama: Salwa Fijri Rahayu\n",
            "Kelas: Rombel 1\n",
            "Tanggal Lahir: 6 Januari 2007\n"
          ]
        }
      ]
    },
    {
      "cell_type": "code",
      "source": [
        "# nested dictionary\n",
        "students = {\n",
        " \"child1\" : {\n",
        "  \"name\" : \"ara\",\n",
        "  \"year\" : 2005\n",
        " },\n",
        " \"child2\" : {\n",
        "  \"name\" : \"lana\",\n",
        "  \"year\" : 2007\n",
        " }\n",
        "}\n",
        "print(students)"
      ],
      "metadata": {
        "colab": {
          "base_uri": "https://localhost:8080/"
        },
        "id": "dpJMdtiIK0r-",
        "outputId": "8e66c252-5988-41f9-b844-84a0609b0dba"
      },
      "execution_count": null,
      "outputs": [
        {
          "output_type": "stream",
          "name": "stdout",
          "text": [
            "{'child1': {'name': 'ara', 'year': 2005}, 'child2': {'name': 'lana', 'year': 2007}}\n"
          ]
        }
      ]
    },
    {
      "cell_type": "markdown",
      "source": [
        "**Weekly Exercise 1**"
      ],
      "metadata": {
        "id": "f-H1OhDTB9v9"
      }
    },
    {
      "cell_type": "markdown",
      "source": [
        "perbedaan dari list, tuple, set dan dictionary dalam python:\n",
        "<li> List adalah sebuah koleksi atau collection type yang diurutkan dan dapat diubah. Kita hanya perlu memasukkan data-data yang ingin dimasukkan ke dalam tanda kurung siku ([ ]) dan dipisahkan dengan koma. Dapat di tambah ataupun dikurang jumlah elemennya. </li>\n",
        "<li> Tuple adalah koleksi yang diurutkan dan tidak dapat diubah. Memungkinkan anggota duplikat. Tuple juga dapat diisi dengan tipe data yang berbeda-beda. </li>\n",
        "<li> Set adalah koleksi yang tidak terurut, tidak dapat diubah, dan tidak mengenal indeks. Tidak ada anggota duplikat. </li>\n",
        "<li> Dictionary adalah kumpulan pasangan kunci dan nilai (key : value) yang terurut dan dapat diubah. Tidak ada anggota duplikat. </li>"
      ],
      "metadata": {
        "id": "kWhK0n99CGTD"
      }
    },
    {
      "cell_type": "markdown",
      "source": [
        "**Weekly Exercise 2**"
      ],
      "metadata": {
        "id": "MLEPGIGx6PqL"
      }
    },
    {
      "cell_type": "code",
      "source": [
        "list_data = [    #list\n",
        "  {    #dictionary\n",
        "    \"Nama\": \"Salwa Fijri Rahayu\",\n",
        "    \"Kelas\": \"Rombel 1\",\n",
        "    \"Tanggal Lahir\": \"6 Januari 2007\",\n",
        "    \"No HP\": \"0123456789\",\n",
        "    \"Alamat\": \"Magelang Utara, Kota Magelang\",\n",
        "    \"Hobi\": [\"Mendengarkan musik\", \"Membaca\", \"Menonton\"] #list\n",
        "  }\n",
        "]\n",
        "\n",
        "for mahasiswa in list_data:\n",
        "  for x, y in mahasiswa.items():\n",
        "    if x == \"Hobi\":\n",
        "      print(f\"{x} :\")\n",
        "      a = 1  # Inisialisasi penomoran untuk hobi\n",
        "      for hobi in y:\n",
        "        print(f\"  {a}. {hobi}\")\n",
        "        a += 1\n",
        "    else:\n",
        "      print(f\"{x} : {y}\")\n",
        "  print()\n",
        "\n",
        "print(\"tipe collection: \", type(list_data))\n",
        "print(\"tipe collection: \", type(mahasiswa))"
      ],
      "metadata": {
        "colab": {
          "base_uri": "https://localhost:8080/"
        },
        "id": "8QKV299t_Szi",
        "outputId": "7f24a9eb-34ff-44db-e456-257509c416a3"
      },
      "execution_count": null,
      "outputs": [
        {
          "output_type": "stream",
          "name": "stdout",
          "text": [
            "Nama : Salwa Fijri Rahayu\n",
            "Kelas : Rombel 1\n",
            "Tanggal Lahir : 6 Januari 2007\n",
            "No HP : 0123456789\n",
            "Alamat : Magelang Utara, Kota Magelang\n",
            "Hobi :\n",
            "  1. Mendengarkan musik\n",
            "  2. Membaca\n",
            "  3. Menonton\n",
            "\n",
            "tipe collection:  <class 'list'>\n",
            "tipe collection:  <class 'dict'>\n"
          ]
        }
      ]
    }
  ]
}